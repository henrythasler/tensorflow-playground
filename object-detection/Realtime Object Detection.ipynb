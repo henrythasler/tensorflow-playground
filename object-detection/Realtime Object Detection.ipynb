{
 "cells": [
  {
   "cell_type": "code",
   "execution_count": 13,
   "metadata": {},
   "outputs": [],
   "source": [
    "# Import the required modules\n",
    "from io import BytesIO\n",
    "import IPython.display\n",
    "from PIL import Image, ImageDraw, ImageFont\n",
    "import numpy as np\n",
    "import tensorflow as tf\n",
    "import matplotlib.pyplot as plt"
   ]
  },
  {
   "cell_type": "code",
   "execution_count": 53,
   "metadata": {},
   "outputs": [],
   "source": [
    "#Use 'jpeg' instead of 'png' (~5 times faster)\n",
    "def showarray(image, prev_display_id=None, fmt='jpeg', dim=640):\n",
    "    f = BytesIO()\n",
    "    image.save(f, fmt)\n",
    "    obj = IPython.display.Image(data=f.getvalue(), width=dim, height=dim)\n",
    "    if prev_display_id is not None:\n",
    "        IPython.display.update_display(obj, display_id=prev_display_id)\n",
    "        return prev_display_id\n",
    "    else:\n",
    "        return IPython.display.display(obj, display_id=True)"
   ]
  },
  {
   "cell_type": "code",
   "execution_count": 54,
   "metadata": {},
   "outputs": [],
   "source": [
    "# Load the TFLite model and allocate tensors.\n",
    "interpreter = tf.lite.Interpreter(model_path=\"../model-zoo/object-detection/SSD MobileNetV1/lite-model_ssd_mobilenet_v1_1_metadata_2.tflite\")\n",
    "interpreter.allocate_tensors()\n",
    "\n",
    "# Get input and output tensors.\n",
    "input_details = interpreter.get_input_details()\n",
    "output_details = interpreter.get_output_details()\n",
    "\n",
    "input_index = interpreter.get_input_details()[0][\"index\"]\n",
    "input_shape = input_details[0]['shape']\n",
    "FRAME_SIZE_MODEL = input_shape[1]\n",
    "\n",
    "# Load labels\n",
    "with open(\"../model-zoo/object-detection/SSD MobileNetV1/labelmap.txt\", 'r') as f:\n",
    "    labels = f.read().splitlines()"
   ]
  },
  {
   "cell_type": "code",
   "execution_count": 60,
   "metadata": {},
   "outputs": [
    {
     "data": {
      "image/jpeg": "[encoded data removed]",
      "text/plain": [
       "<IPython.core.display.Image object>"
      ]
     },
     "metadata": {
      "image/jpeg": {
       "height": 640,
       "width": 640
      }
     },
     "output_type": "display_data"
    }
   ],
   "source": [
    "# Read the image and decode to a tensor\n",
    "vc = cv2.VideoCapture(0)\n",
    "\n",
    "display_id = None\n",
    "\n",
    "if vc.isOpened(): # try to get the first frame\n",
    "    try:\n",
    "        for i in range(800):\n",
    "            _, frame = vc.read()\n",
    "            \n",
    "            # Convert the image from OpenCV BGR format to matplotlib RGB format\n",
    "            # to display the image\n",
    "            img_rgb = PIL.Image.fromarray(cv2.cvtColor(frame, cv2.COLOR_BGR2RGB))\n",
    "            \n",
    "            crop_size = min(img_rgb.size)\n",
    "            scale = crop_size / 600\n",
    "\n",
    "            # crop to square and resize for model input\n",
    "            img_cropped = img_rgb.crop(((img_rgb.size[0]-crop_size)/2, (img_rgb.size[1]-crop_size)/2, (img_rgb.size[0]-crop_size)/2 + crop_size, (img_rgb.size[1]-crop_size)/2 + crop_size))\n",
    "            img_resized = img_cropped.copy()\n",
    "            img_resized.thumbnail((FRAME_SIZE_MODEL, FRAME_SIZE_MODEL), Image.ANTIALIAS)\n",
    "\n",
    "            #img_resized = image. cv2.resize(img_rgb,(FRAME_SIZE_MODEL, FRAME_SIZE_MODEL))\n",
    "\n",
    "            #Preprocess the image to required size and cast\n",
    "            input_tensor= np.array(np.expand_dims(np.asarray(img_resized),0), dtype=np.uint8)\n",
    "            input_index = interpreter.get_input_details()[0][\"index\"]            \n",
    "\n",
    "            # Set input data\n",
    "            interpreter.set_tensor(input_index, input_tensor)\n",
    "\n",
    "            # Run the inference\n",
    "            interpreter.invoke()\n",
    "            output_details = interpreter.get_output_details()\n",
    "\n",
    "            # location is [top, left, bottom, right] relative (0..1) to input dimensions\n",
    "            location = np.squeeze(interpreter.get_tensor(output_details[0]['index']))\n",
    "            category = np.squeeze(interpreter.get_tensor(output_details[1]['index']))\n",
    "            score = np.squeeze(interpreter.get_tensor(output_details[2]['index']))\n",
    "\n",
    "            # make a blank image for the text, initialized to transparent text color\n",
    "            canvas = Image.new(\"RGBA\", img_cropped.size, (255,255,255,0))\n",
    "\n",
    "            # get a font\n",
    "            fnt = ImageFont.truetype(\"Pillow/Tests/fonts/FreeSans.ttf\", int(26 * scale))\n",
    "            # get a drawing context\n",
    "            d = ImageDraw.Draw(canvas)\n",
    "\n",
    "            outline_width = int(5*scale)\n",
    "\n",
    "            for i in range(10):\n",
    "                if score[i] > 0.6:\n",
    "                    class_text = '{} {:.0f}%'.format(labels[int(category[i])], score[i]*100) \n",
    "\n",
    "                    # Image needs [left, top, right, bottom]\n",
    "                    rect = np.array([location[i][1], location[i][0], location[i][3], location[i][2]]) * crop_size\n",
    "\n",
    "                    # draw text, half opacity\n",
    "                    text_dim = d.textsize(class_text, font=fnt)\n",
    "                    bbox = ( rect[0] + outline_width, rect[1], rect[0] + text_dim[0] + outline_width, rect[1] + text_dim[1] + outline_width)\n",
    "\n",
    "                    # draw elements\n",
    "                    d.rectangle(bbox, fill=(0,0,0,64))\n",
    "                    d.rectangle(rect, outline=(0,0,255,128), width=outline_width)\n",
    "                    d.text(( rect[0] + outline_width, rect[1] + outline_width), class_text, font=fnt, fill=(255,255,255,255))\n",
    "\n",
    "            # Create composize image with canvas\n",
    "            composite = Image.alpha_composite(img_cropped.convert(\"RGBA\"), canvas).convert(\"RGB\")\n",
    "            \n",
    "            if display_id is not None:\n",
    "                showarray(composite, display_id)\n",
    "            else:\n",
    "                display_id = showarray(composite).display_id\n",
    "                \n",
    "            # Display the frame info until new frame is available\n",
    "            IPython.display.clear_output(wait=True)\n",
    "    finally:\n",
    "        vc.release()\n",
    "else:\n",
    "    is_capturing = False\n",
    "    print(\"Camera not found!\")"
   ]
  },
  {
   "cell_type": "code",
   "execution_count": null,
   "metadata": {},
   "outputs": [],
   "source": []
  }
 ],
 "metadata": {
  "kernelspec": {
   "display_name": "Python 3.8.2 64-bit",
   "language": "python",
   "name": "python38264bita307c9f5d73a4e6bba0d2b5e435e778a"
  },
  "language_info": {
   "codemirror_mode": {
    "name": "ipython",
    "version": 3
   },
   "file_extension": ".py",
   "mimetype": "text/x-python",
   "name": "python",
   "nbconvert_exporter": "python",
   "pygments_lexer": "ipython3",
   "version": "3.8.5"
  }
 },
 "nbformat": 4,
 "nbformat_minor": 4
}
