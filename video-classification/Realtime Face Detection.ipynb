{
 "cells": [
  {
   "cell_type": "code",
   "execution_count": 1,
   "metadata": {},
   "outputs": [],
   "source": [
    "# Import the required modules\n",
    "import cv2\n",
    "import PIL.Image\n",
    "from io import BytesIO\n",
    "import IPython.display"
   ]
  },
  {
   "cell_type": "code",
   "execution_count": 2,
   "metadata": {},
   "outputs": [],
   "source": [
    "#Use 'jpeg' instead of 'png' (~5 times faster)\n",
    "def showarray(a, prev_display_id=None, fmt='jpeg'):\n",
    "    f = BytesIO()\n",
    "    PIL.Image.fromarray(a).save(f, fmt)\n",
    "    obj = IPython.display.Image(data=f.getvalue())\n",
    "    if prev_display_id is not None:\n",
    "        IPython.display.update_display(obj, display_id=prev_display_id)\n",
    "        return prev_display_id\n",
    "    else:\n",
    "        return IPython.display.display(obj, display_id=True)"
   ]
  },
  {
   "cell_type": "code",
   "execution_count": 3,
   "metadata": {},
   "outputs": [
    {
     "data": {
      "text/plain": [
       "True"
      ]
     },
     "execution_count": 3,
     "metadata": {},
     "output_type": "execute_result"
    }
   ],
   "source": [
    "face_cascade = cv2.CascadeClassifier()\n",
    "face_cascade.load(cv2.samples.findFile(\"haarcascade_frontalface_alt.xml\"))"
   ]
  },
  {
   "cell_type": "code",
   "execution_count": 4,
   "metadata": {},
   "outputs": [
    {
     "data": {
      "image/jpeg": "[encoded data removed]",
      "text/plain": [
       "<IPython.core.display.Image object>"
      ]
     },
     "metadata": {},
     "output_type": "display_data"
    }
   ],
   "source": [
    "# Read the image and decode to a tensor\n",
    "vc = cv2.VideoCapture(0)\n",
    "\n",
    "display_id = None\n",
    "\n",
    "if vc.isOpened(): # try to get the first frame\n",
    "    try:\n",
    "        for i in range(200):\n",
    "            _, frame = vc.read()\n",
    "\n",
    "            # Convert the image from OpenCV BGR format to matplotlib RGB format\n",
    "            # to display the image\n",
    "            frame_rgb = cv2.cvtColor(frame, cv2.COLOR_BGR2RGB)        \n",
    "            \n",
    "            frame_gray = cv2.cvtColor(frame, cv2.COLOR_BGR2GRAY)\n",
    "            frame_gray = cv2.equalizeHist(frame_gray)\n",
    "\n",
    "            result = frame_rgb\n",
    "            \n",
    "            #-- Detect faces\n",
    "            faces = face_cascade.detectMultiScale(frame_gray)\n",
    "            for (x,y,w,h) in faces:\n",
    "                center = (x + w//2, y + h//2)\n",
    "                result = cv2.ellipse(result, center, (w//2, h//2), 0, 0, 360, (255, 255, 255), 4)\n",
    "            \n",
    "            cv2.putText(result, str(i+1), (3, 15), cv2.FONT_HERSHEY_SIMPLEX, 0.5 , (255, 255, 255), 1)\n",
    "            \n",
    "            if display_id is not None:\n",
    "                showarray(result, display_id)\n",
    "            else:\n",
    "                display_id = showarray(result).display_id\n",
    "                \n",
    "            # Display the frame info until new frame is available\n",
    "            IPython.display.clear_output(wait=True)\n",
    "    finally:\n",
    "        vc.release()\n",
    "else:\n",
    "    is_capturing = False\n",
    "    print(\"Camera not found!\")"
   ]
  },
  {
   "cell_type": "code",
   "execution_count": null,
   "metadata": {},
   "outputs": [],
   "source": []
  }
 ],
 "metadata": {
  "kernelspec": {
   "display_name": "Python 3.8.2 64-bit",
   "language": "python",
   "name": "python38264bita307c9f5d73a4e6bba0d2b5e435e778a"
  },
  "language_info": {
   "codemirror_mode": {
    "name": "ipython",
    "version": 3
   },
   "file_extension": ".py",
   "mimetype": "text/x-python",
   "name": "python",
   "nbconvert_exporter": "python",
   "pygments_lexer": "ipython3",
   "version": "3.8.5"
  }
 },
 "nbformat": 4,
 "nbformat_minor": 4
}
